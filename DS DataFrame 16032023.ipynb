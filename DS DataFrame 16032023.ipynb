{
 "cells": [
  {
   "cell_type": "markdown",
   "id": "32295da0",
   "metadata": {},
   "source": [
    "### Creating DataFrames"
   ]
  },
  {
   "cell_type": "code",
   "execution_count": 1,
   "id": "853dc45c",
   "metadata": {},
   "outputs": [],
   "source": [
    "import pandas as pd"
   ]
  },
  {
   "cell_type": "markdown",
   "id": "28d5fb0b",
   "metadata": {},
   "source": [
    "### From Dictionary"
   ]
  },
  {
   "cell_type": "code",
   "execution_count": 4,
   "id": "977b811e",
   "metadata": {},
   "outputs": [],
   "source": [
    "dict01={'Age':[10,20,15],'Name':['Vinu','Anu','Dinu']}"
   ]
  },
  {
   "cell_type": "code",
   "execution_count": 5,
   "id": "d5615d6b",
   "metadata": {},
   "outputs": [],
   "source": [
    "df2=pd.DataFrame(dict01)"
   ]
  },
  {
   "cell_type": "code",
   "execution_count": 6,
   "id": "9b305890",
   "metadata": {},
   "outputs": [
    {
     "data": {
      "text/html": [
       "<div>\n",
       "<style scoped>\n",
       "    .dataframe tbody tr th:only-of-type {\n",
       "        vertical-align: middle;\n",
       "    }\n",
       "\n",
       "    .dataframe tbody tr th {\n",
       "        vertical-align: top;\n",
       "    }\n",
       "\n",
       "    .dataframe thead th {\n",
       "        text-align: right;\n",
       "    }\n",
       "</style>\n",
       "<table border=\"1\" class=\"dataframe\">\n",
       "  <thead>\n",
       "    <tr style=\"text-align: right;\">\n",
       "      <th></th>\n",
       "      <th>Age</th>\n",
       "      <th>Name</th>\n",
       "    </tr>\n",
       "  </thead>\n",
       "  <tbody>\n",
       "    <tr>\n",
       "      <th>0</th>\n",
       "      <td>10</td>\n",
       "      <td>Vinu</td>\n",
       "    </tr>\n",
       "    <tr>\n",
       "      <th>1</th>\n",
       "      <td>20</td>\n",
       "      <td>Anu</td>\n",
       "    </tr>\n",
       "    <tr>\n",
       "      <th>2</th>\n",
       "      <td>15</td>\n",
       "      <td>Dinu</td>\n",
       "    </tr>\n",
       "  </tbody>\n",
       "</table>\n",
       "</div>"
      ],
      "text/plain": [
       "   Age  Name\n",
       "0   10  Vinu\n",
       "1   20   Anu\n",
       "2   15  Dinu"
      ]
     },
     "execution_count": 6,
     "metadata": {},
     "output_type": "execute_result"
    }
   ],
   "source": [
    "df2"
   ]
  },
  {
   "cell_type": "markdown",
   "id": "c38a848a",
   "metadata": {},
   "source": [
    "## DataFrame Using Lists"
   ]
  },
  {
   "cell_type": "code",
   "execution_count": 7,
   "id": "74ce91be",
   "metadata": {},
   "outputs": [],
   "source": [
    "names = [\"Manu\",'Binu', 'Vinu']\n",
    "age=[27,26,25]"
   ]
  },
  {
   "cell_type": "code",
   "execution_count": 11,
   "id": "2826fe8f",
   "metadata": {},
   "outputs": [],
   "source": [
    "df1 = pd.DataFrame(list(zip(names,age)), columns =['Names' , 'Age'])"
   ]
  },
  {
   "cell_type": "code",
   "execution_count": 12,
   "id": "9fd49b54",
   "metadata": {},
   "outputs": [
    {
     "data": {
      "text/html": [
       "<div>\n",
       "<style scoped>\n",
       "    .dataframe tbody tr th:only-of-type {\n",
       "        vertical-align: middle;\n",
       "    }\n",
       "\n",
       "    .dataframe tbody tr th {\n",
       "        vertical-align: top;\n",
       "    }\n",
       "\n",
       "    .dataframe thead th {\n",
       "        text-align: right;\n",
       "    }\n",
       "</style>\n",
       "<table border=\"1\" class=\"dataframe\">\n",
       "  <thead>\n",
       "    <tr style=\"text-align: right;\">\n",
       "      <th></th>\n",
       "      <th>Names</th>\n",
       "      <th>Age</th>\n",
       "    </tr>\n",
       "  </thead>\n",
       "  <tbody>\n",
       "    <tr>\n",
       "      <th>0</th>\n",
       "      <td>Manu</td>\n",
       "      <td>27</td>\n",
       "    </tr>\n",
       "    <tr>\n",
       "      <th>1</th>\n",
       "      <td>Binu</td>\n",
       "      <td>26</td>\n",
       "    </tr>\n",
       "    <tr>\n",
       "      <th>2</th>\n",
       "      <td>Vinu</td>\n",
       "      <td>25</td>\n",
       "    </tr>\n",
       "  </tbody>\n",
       "</table>\n",
       "</div>"
      ],
      "text/plain": [
       "  Names  Age\n",
       "0  Manu   27\n",
       "1  Binu   26\n",
       "2  Vinu   25"
      ]
     },
     "execution_count": 12,
     "metadata": {},
     "output_type": "execute_result"
    }
   ],
   "source": [
    "df1"
   ]
  },
  {
   "cell_type": "markdown",
   "id": "05c9d068",
   "metadata": {},
   "source": [
    "### DataFrame from Lists of Dictionaries"
   ]
  },
  {
   "cell_type": "code",
   "execution_count": 16,
   "id": "11cf3b32",
   "metadata": {},
   "outputs": [],
   "source": [
    "lst=[\n",
    "    {'Name':'Arun', 'Age':29, 'Gender':'Male'},\n",
    "    {'Name':'Manu', 'Age':28, 'Gender':'Male'},\n",
    "    {'Name':'Safeer', 'Age':20, 'Gender':'Male'},\n",
    "    {'Name':'Radhs', 'Age':27, 'Gender':'Feale'},\n",
    "    {'Name':'Vivek', 'Age':28, 'Gender':'Male'},\n",
    "]"
   ]
  },
  {
   "cell_type": "code",
   "execution_count": 17,
   "id": "1eadd7f1",
   "metadata": {},
   "outputs": [],
   "source": [
    "df=pd.DataFrame(lst)"
   ]
  },
  {
   "cell_type": "code",
   "execution_count": 18,
   "id": "b72631e2",
   "metadata": {},
   "outputs": [
    {
     "data": {
      "text/html": [
       "<div>\n",
       "<style scoped>\n",
       "    .dataframe tbody tr th:only-of-type {\n",
       "        vertical-align: middle;\n",
       "    }\n",
       "\n",
       "    .dataframe tbody tr th {\n",
       "        vertical-align: top;\n",
       "    }\n",
       "\n",
       "    .dataframe thead th {\n",
       "        text-align: right;\n",
       "    }\n",
       "</style>\n",
       "<table border=\"1\" class=\"dataframe\">\n",
       "  <thead>\n",
       "    <tr style=\"text-align: right;\">\n",
       "      <th></th>\n",
       "      <th>Name</th>\n",
       "      <th>Age</th>\n",
       "      <th>Gender</th>\n",
       "    </tr>\n",
       "  </thead>\n",
       "  <tbody>\n",
       "    <tr>\n",
       "      <th>0</th>\n",
       "      <td>Arun</td>\n",
       "      <td>29</td>\n",
       "      <td>Male</td>\n",
       "    </tr>\n",
       "    <tr>\n",
       "      <th>1</th>\n",
       "      <td>Manu</td>\n",
       "      <td>28</td>\n",
       "      <td>Male</td>\n",
       "    </tr>\n",
       "    <tr>\n",
       "      <th>2</th>\n",
       "      <td>Safeer</td>\n",
       "      <td>20</td>\n",
       "      <td>Male</td>\n",
       "    </tr>\n",
       "    <tr>\n",
       "      <th>3</th>\n",
       "      <td>Radhs</td>\n",
       "      <td>27</td>\n",
       "      <td>Feale</td>\n",
       "    </tr>\n",
       "    <tr>\n",
       "      <th>4</th>\n",
       "      <td>Vivek</td>\n",
       "      <td>28</td>\n",
       "      <td>Male</td>\n",
       "    </tr>\n",
       "  </tbody>\n",
       "</table>\n",
       "</div>"
      ],
      "text/plain": [
       "     Name  Age Gender\n",
       "0    Arun   29   Male\n",
       "1    Manu   28   Male\n",
       "2  Safeer   20   Male\n",
       "3   Radhs   27  Feale\n",
       "4   Vivek   28   Male"
      ]
     },
     "execution_count": 18,
     "metadata": {},
     "output_type": "execute_result"
    }
   ],
   "source": [
    "df"
   ]
  },
  {
   "cell_type": "markdown",
   "id": "59d3ac7b",
   "metadata": {},
   "source": [
    "### Ds1 DataFrame Using Lists"
   ]
  },
  {
   "cell_type": "code",
   "execution_count": 25,
   "id": "b044735d",
   "metadata": {},
   "outputs": [],
   "source": [
    "names = ['Vaisakh','Rinto raj','Joyal joseph','Saneesh Mathew','Aswathi V V','Reneesh V U','Viswanth V','Reshma Regunath','doniya','Adarsh balan','Farseen','Sooraj','Sreelakshmi','Geo','Anantha krishnan T','Aiswarya','Reshma A C','Siraj T M','Biben','Arun','Reshmi R Nair','Shaijal','Christy']\n",
    "age = [23,25,25,32,23,27,26,22,22,24,23,32,28,24,24,25,26,25,25,31,21,21]\n",
    "gender = ['M','M','M','M','F','M','M','F','F','M','M','M','F','M','M','F','F','M','M','M','F','M']\n",
    "qualification = ['BBA','BTECH','BSC MATHS','BSC CS','BTECH','BSC CS','BTECH','BCA','BTECH','BTECH','BTECH','BCOM','MCA','12TH','BTECH','MSC STATICS','MSC MATHS','MCOM','BTECH','MBA','BTECH','BE CSE']"
   ]
  },
  {
   "cell_type": "code",
   "execution_count": 27,
   "id": "d49255d2",
   "metadata": {},
   "outputs": [],
   "source": [
    "DS = pd.DataFrame(list(zip(names,age,gender,qualification)), columns=['Names','Age','Gender','Qualification'])"
   ]
  },
  {
   "cell_type": "code",
   "execution_count": 29,
   "id": "c25c2b9c",
   "metadata": {},
   "outputs": [
    {
     "data": {
      "text/html": [
       "<div>\n",
       "<style scoped>\n",
       "    .dataframe tbody tr th:only-of-type {\n",
       "        vertical-align: middle;\n",
       "    }\n",
       "\n",
       "    .dataframe tbody tr th {\n",
       "        vertical-align: top;\n",
       "    }\n",
       "\n",
       "    .dataframe thead th {\n",
       "        text-align: right;\n",
       "    }\n",
       "</style>\n",
       "<table border=\"1\" class=\"dataframe\">\n",
       "  <thead>\n",
       "    <tr style=\"text-align: right;\">\n",
       "      <th></th>\n",
       "      <th>Names</th>\n",
       "      <th>Age</th>\n",
       "      <th>Gender</th>\n",
       "      <th>Qualification</th>\n",
       "    </tr>\n",
       "  </thead>\n",
       "  <tbody>\n",
       "    <tr>\n",
       "      <th>0</th>\n",
       "      <td>Vaisakh</td>\n",
       "      <td>23</td>\n",
       "      <td>M</td>\n",
       "      <td>BBA</td>\n",
       "    </tr>\n",
       "    <tr>\n",
       "      <th>1</th>\n",
       "      <td>Rinto raj</td>\n",
       "      <td>25</td>\n",
       "      <td>M</td>\n",
       "      <td>BTECH</td>\n",
       "    </tr>\n",
       "    <tr>\n",
       "      <th>2</th>\n",
       "      <td>Joyal joseph</td>\n",
       "      <td>25</td>\n",
       "      <td>M</td>\n",
       "      <td>BSC MATHS</td>\n",
       "    </tr>\n",
       "    <tr>\n",
       "      <th>3</th>\n",
       "      <td>Saneesh Mathew</td>\n",
       "      <td>32</td>\n",
       "      <td>M</td>\n",
       "      <td>BSC CS</td>\n",
       "    </tr>\n",
       "    <tr>\n",
       "      <th>4</th>\n",
       "      <td>Aswathi V V</td>\n",
       "      <td>23</td>\n",
       "      <td>F</td>\n",
       "      <td>BTECH</td>\n",
       "    </tr>\n",
       "    <tr>\n",
       "      <th>5</th>\n",
       "      <td>Reneesh V U</td>\n",
       "      <td>27</td>\n",
       "      <td>M</td>\n",
       "      <td>BSC CS</td>\n",
       "    </tr>\n",
       "    <tr>\n",
       "      <th>6</th>\n",
       "      <td>Viswanth V</td>\n",
       "      <td>26</td>\n",
       "      <td>M</td>\n",
       "      <td>BTECH</td>\n",
       "    </tr>\n",
       "    <tr>\n",
       "      <th>7</th>\n",
       "      <td>Reshma Regunath</td>\n",
       "      <td>22</td>\n",
       "      <td>F</td>\n",
       "      <td>BCA</td>\n",
       "    </tr>\n",
       "    <tr>\n",
       "      <th>8</th>\n",
       "      <td>doniya</td>\n",
       "      <td>22</td>\n",
       "      <td>F</td>\n",
       "      <td>BTECH</td>\n",
       "    </tr>\n",
       "    <tr>\n",
       "      <th>9</th>\n",
       "      <td>Adarsh balan</td>\n",
       "      <td>24</td>\n",
       "      <td>M</td>\n",
       "      <td>BTECH</td>\n",
       "    </tr>\n",
       "    <tr>\n",
       "      <th>10</th>\n",
       "      <td>Farseen</td>\n",
       "      <td>23</td>\n",
       "      <td>M</td>\n",
       "      <td>BTECH</td>\n",
       "    </tr>\n",
       "    <tr>\n",
       "      <th>11</th>\n",
       "      <td>Sooraj</td>\n",
       "      <td>32</td>\n",
       "      <td>M</td>\n",
       "      <td>BCOM</td>\n",
       "    </tr>\n",
       "    <tr>\n",
       "      <th>12</th>\n",
       "      <td>Sreelakshmi</td>\n",
       "      <td>28</td>\n",
       "      <td>F</td>\n",
       "      <td>MCA</td>\n",
       "    </tr>\n",
       "    <tr>\n",
       "      <th>13</th>\n",
       "      <td>Geo</td>\n",
       "      <td>24</td>\n",
       "      <td>M</td>\n",
       "      <td>12TH</td>\n",
       "    </tr>\n",
       "    <tr>\n",
       "      <th>14</th>\n",
       "      <td>Anantha krishnan T</td>\n",
       "      <td>24</td>\n",
       "      <td>M</td>\n",
       "      <td>BTECH</td>\n",
       "    </tr>\n",
       "    <tr>\n",
       "      <th>15</th>\n",
       "      <td>Aiswarya</td>\n",
       "      <td>25</td>\n",
       "      <td>F</td>\n",
       "      <td>MSC STATICS</td>\n",
       "    </tr>\n",
       "    <tr>\n",
       "      <th>16</th>\n",
       "      <td>Reshma A C</td>\n",
       "      <td>26</td>\n",
       "      <td>F</td>\n",
       "      <td>MSC MATHS</td>\n",
       "    </tr>\n",
       "    <tr>\n",
       "      <th>17</th>\n",
       "      <td>Siraj T M</td>\n",
       "      <td>25</td>\n",
       "      <td>M</td>\n",
       "      <td>MCOM</td>\n",
       "    </tr>\n",
       "    <tr>\n",
       "      <th>18</th>\n",
       "      <td>Biben</td>\n",
       "      <td>25</td>\n",
       "      <td>M</td>\n",
       "      <td>BTECH</td>\n",
       "    </tr>\n",
       "    <tr>\n",
       "      <th>19</th>\n",
       "      <td>Arun</td>\n",
       "      <td>31</td>\n",
       "      <td>M</td>\n",
       "      <td>MBA</td>\n",
       "    </tr>\n",
       "    <tr>\n",
       "      <th>20</th>\n",
       "      <td>Reshmi R Nair</td>\n",
       "      <td>21</td>\n",
       "      <td>F</td>\n",
       "      <td>BTECH</td>\n",
       "    </tr>\n",
       "    <tr>\n",
       "      <th>21</th>\n",
       "      <td>Shaijal</td>\n",
       "      <td>21</td>\n",
       "      <td>M</td>\n",
       "      <td>BE CSE</td>\n",
       "    </tr>\n",
       "  </tbody>\n",
       "</table>\n",
       "</div>"
      ],
      "text/plain": [
       "                 Names  Age Gender Qualification\n",
       "0              Vaisakh   23      M           BBA\n",
       "1            Rinto raj   25      M         BTECH\n",
       "2         Joyal joseph   25      M     BSC MATHS\n",
       "3       Saneesh Mathew   32      M        BSC CS\n",
       "4          Aswathi V V   23      F         BTECH\n",
       "5          Reneesh V U   27      M        BSC CS\n",
       "6           Viswanth V   26      M         BTECH\n",
       "7      Reshma Regunath   22      F           BCA\n",
       "8               doniya   22      F         BTECH\n",
       "9         Adarsh balan   24      M         BTECH\n",
       "10             Farseen   23      M         BTECH\n",
       "11              Sooraj   32      M          BCOM\n",
       "12         Sreelakshmi   28      F           MCA\n",
       "13                 Geo   24      M          12TH\n",
       "14  Anantha krishnan T   24      M         BTECH\n",
       "15            Aiswarya   25      F   MSC STATICS\n",
       "16          Reshma A C   26      F     MSC MATHS\n",
       "17           Siraj T M   25      M          MCOM\n",
       "18               Biben   25      M         BTECH\n",
       "19                Arun   31      M           MBA\n",
       "20       Reshmi R Nair   21      F         BTECH\n",
       "21             Shaijal   21      M        BE CSE"
      ]
     },
     "execution_count": 29,
     "metadata": {},
     "output_type": "execute_result"
    }
   ],
   "source": [
    "DS"
   ]
  },
  {
   "cell_type": "code",
   "execution_count": null,
   "id": "07bb6fe2",
   "metadata": {},
   "outputs": [],
   "source": []
  }
 ],
 "metadata": {
  "kernelspec": {
   "display_name": "Python 3 (ipykernel)",
   "language": "python",
   "name": "python3"
  },
  "language_info": {
   "codemirror_mode": {
    "name": "ipython",
    "version": 3
   },
   "file_extension": ".py",
   "mimetype": "text/x-python",
   "name": "python",
   "nbconvert_exporter": "python",
   "pygments_lexer": "ipython3",
   "version": "3.9.13"
  }
 },
 "nbformat": 4,
 "nbformat_minor": 5
}
